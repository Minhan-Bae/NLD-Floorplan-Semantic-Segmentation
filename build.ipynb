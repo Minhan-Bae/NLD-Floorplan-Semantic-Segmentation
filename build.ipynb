{
 "cells": [
  {
   "cell_type": "code",
   "execution_count": 4,
   "metadata": {},
   "outputs": [
    {
     "name": "stdout",
     "output_type": "stream",
     "text": [
      "True\n",
      "0,1\n"
     ]
    }
   ],
   "source": [
    "# cuda 연결 확인\n",
    "import torch\n",
    "\n",
    "cuda_available = torch.cuda.is_available()\n",
    "device_indices = ','.join([str(i) for i in range(torch.cuda.device_count())])\n",
    "\n",
    "print(cuda_available)\n",
    "print(device_indices)"
   ]
  },
  {
   "cell_type": "code",
   "execution_count": null,
   "metadata": {},
   "outputs": [],
   "source": []
  }
 ],
 "metadata": {
  "kernelspec": {
   "display_name": "Python 3.9.16 ('room_seg')",
   "language": "python",
   "name": "python3"
  },
  "language_info": {
   "codemirror_mode": {
    "name": "ipython",
    "version": 3
   },
   "file_extension": ".py",
   "mimetype": "text/x-python",
   "name": "python",
   "nbconvert_exporter": "python",
   "pygments_lexer": "ipython3",
   "version": "3.9.16"
  },
  "orig_nbformat": 4,
  "vscode": {
   "interpreter": {
    "hash": "eb84a25da73a9e3bb577ae776525323ad38e5b3f0d19eddc46c0aa602410b71b"
   }
  }
 },
 "nbformat": 4,
 "nbformat_minor": 2
}
