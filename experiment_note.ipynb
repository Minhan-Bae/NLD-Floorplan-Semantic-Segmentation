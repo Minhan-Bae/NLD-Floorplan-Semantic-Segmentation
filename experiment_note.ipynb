{
 "cells": [
  {
   "cell_type": "code",
   "execution_count": 4,
   "metadata": {},
   "outputs": [
    {
     "name": "stdout",
     "output_type": "stream",
     "text": [
      "True\n",
      "0,1\n"
     ]
    }
   ],
   "source": [
    "show = False\n",
    "if show:\n",
    "    title = 'Experiment Note'\n",
    "    notes = '''\n",
    "    \n",
    "    \"23-05-24\": main.py 코드 및 instance-segmentation 코드 참고\n",
    "        = logging 부분 확인\n",
    "            Q. logging 부분을 외부로 뺄 수 있을까?\n",
    "        = 4일동안 딥러닝 모델 scratch 구축을 할 수 있을까?\n",
    "            - 남은 3시간 정도는 무엇을 해야 할 지 제대로 구축 할 것.\n",
    "                (1일차:25일) - utils, dataloader 등 구성\n",
    "                (2일차:26일) - main.py 구성 완료\n",
    "                (3일차:30일) - ckpt, logging 부분 추가\n",
    "                (4일차:31일) - scratch repo 0.1v 완성\n",
    "                \n",
    "                이후에 추가 애드온(e.g. wandb, mlflow, ...)은 2차(0.2v 에서 수행)\n",
    "                스케줄러, 하이퍼파라메터 튜닝 등 segmentation task에 맞는 것 선택\n",
    "        \n",
    "    \n",
    "    \n",
    "    \n",
    "    \n",
    "    \n",
    "    \n",
    "    \n",
    "    \n",
    "    '''"
   ]
  },
  {
   "cell_type": "code",
   "execution_count": null,
   "metadata": {},
   "outputs": [],
   "source": []
  }
 ],
 "metadata": {
  "kernelspec": {
   "display_name": "Python 3.9.16 ('room_seg')",
   "language": "python",
   "name": "python3"
  },
  "language_info": {
   "codemirror_mode": {
    "name": "ipython",
    "version": 3
   },
   "file_extension": ".py",
   "mimetype": "text/x-python",
   "name": "python",
   "nbconvert_exporter": "python",
   "pygments_lexer": "ipython3",
   "version": "3.9.16"
  },
  "orig_nbformat": 4,
  "vscode": {
   "interpreter": {
    "hash": "eb84a25da73a9e3bb577ae776525323ad38e5b3f0d19eddc46c0aa602410b71b"
   }
  }
 },
 "nbformat": 4,
 "nbformat_minor": 2
}
